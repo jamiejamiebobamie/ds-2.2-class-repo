{
 "cells": [
  {
   "cell_type": "markdown",
   "metadata": {},
   "source": [
    "Build and train a CNN+MLP deep learning model with Keras with two followings for MNIST dataset:\n",
    "```\n",
    "1. Conv2D(32, kernel_size=(3, 3), activation='relu')\n",
    "2. Conv2D(64, kernel_size=(3, 3), activation='relu')\n",
    "3. MaxPooling2D(pool_size=(2, 2))\n",
    "4. Dense(128, activation='relu')\n",
    "5. Dense(num_classes, activation='softmax')\n",
    "```\n",
    "Also build another model with BatchNormalization and Dropout. \n",
    "Compare these two models performance for test data"
   ]
  },
  {
   "cell_type": "code",
   "execution_count": null,
   "metadata": {},
   "outputs": [],
   "source": []
  }
 ],
 "metadata": {
  "kernelspec": {
   "display_name": "Python 3",
   "language": "python",
   "name": "python3"
  },
  "language_info": {
   "codemirror_mode": {
    "name": "ipython",
    "version": 3
   },
   "file_extension": ".py",
   "mimetype": "text/x-python",
   "name": "python",
   "nbconvert_exporter": "python",
   "pygments_lexer": "ipython3",
   "version": "3.6.5"
  }
 },
 "nbformat": 4,
 "nbformat_minor": 2
}
